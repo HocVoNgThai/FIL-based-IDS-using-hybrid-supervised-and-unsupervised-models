{
 "cells": [
  {
   "cell_type": "code",
   "execution_count": 1,
   "id": "f64b3f75",
   "metadata": {},
   "outputs": [],
   "source": [
    "import os, sys\n",
    "from pathlib import Path\n",
    "\n",
    "import pandas as pd \n",
    "import dask.dataframe as dd"
   ]
  },
  {
   "cell_type": "code",
   "execution_count": 2,
   "id": "1c929875",
   "metadata": {},
   "outputs": [
    {
     "name": "stdout",
     "output_type": "stream",
     "text": [
      "mirai-dos (1).csv\n",
      "mirai-dos (2).csv\n",
      "mirai-dos (4).csv\n",
      "mirai-dos (6).csv\n",
      "mirai-dos (7).csv\n"
     ]
    }
   ],
   "source": [
    "\n",
    "dir_benign =  \"C:/Users/hoang/Documents/Dataset_KLTN/gotham2025_extracted_1.1/benign\"\n",
    "dir_malicious = \"C:/Users/hoang/Documents/Dataset_KLTN/gotham2025_extracted_1.1/malicious\"\n",
    "dfs = []\n",
    "\n",
    "dir_out = \"C:/Users/hoang/Documents/Dataset_KLTN/gotham2025_extracted_1.1/gotham2025_unproc_merged.csv\"\n",
    "file_not_get = [\"coap-amplificator.csv\", \"mirai-dos (3).csv\"]\n",
    "\n",
    "header = True\n",
    "with open(dir_out, 'w') as outf:\n",
    "    for f in list(Path(dir_benign).rglob('*.csv')):\n",
    "        with open(f, 'r') as infile:\n",
    "            if (header == False):\n",
    "                next(infile)    \n",
    "            # if your csv files have headers then you might want to burn a line here with `next(infile)\n",
    "            for line in infile:\n",
    "                line = line.replace(\"No Label\", \"Benign\")\n",
    "                outf.writelines(line)\n",
    "        header = False\n",
    "        \n",
    "    \n",
    "    folder_path = Path(dir_malicious)\n",
    "    for f in list(folder_path.rglob('*.csv')):\n",
    "        if (f.name in file_not_get):\n",
    "            continue\n",
    "        \n",
    "        label_str = \"\"\n",
    "        if 'coap-amplificator' in f.name:\n",
    "            label_str=\"Coap-Amplificator\"\n",
    "        elif 'merlin' in f.name:\n",
    "            label_str=\"Merlin\"\n",
    "        elif 'mirai-dos' in f.name and '5' in f.name:\n",
    "            label_str=\"Mirai-Dos\"\n",
    "        elif 'mirai-infection' in f.name:\n",
    "            label_str=\"Mirai-Infection\"\n",
    "        elif 'network-scanning' in f.name:\n",
    "            label_str = \"Network-Scanning\" \n",
    "        else:\n",
    "            print(f.name)\n",
    "            continue\n",
    "            # label_str = \"Unknown-Attack\"\n",
    "        \n",
    "        with open(f, 'r') as infile:\n",
    "            if (header == False):\n",
    "                next(infile)\n",
    "            # if your csv files have headers then you might want to burn a line here with `next(infile)\n",
    "            for line in infile:\n",
    "                line = line.replace(\"No Label\", label_str)\n",
    "                outf.writelines(line)\n",
    "        header=False"
   ]
  }
 ],
 "metadata": {
  "kernelspec": {
   "display_name": "kltn",
   "language": "python",
   "name": "python3"
  },
  "language_info": {
   "codemirror_mode": {
    "name": "ipython",
    "version": 3
   },
   "file_extension": ".py",
   "mimetype": "text/x-python",
   "name": "python",
   "nbconvert_exporter": "python",
   "pygments_lexer": "ipython3",
   "version": "3.9.23"
  }
 },
 "nbformat": 4,
 "nbformat_minor": 5
}
