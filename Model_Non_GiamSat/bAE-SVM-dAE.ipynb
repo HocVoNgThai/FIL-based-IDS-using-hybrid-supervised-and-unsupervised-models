{
 "cells": [
  {
   "cell_type": "code",
   "execution_count": null,
   "id": "6e7229f3",
   "metadata": {},
   "outputs": [
    {
     "name": "stdout",
     "output_type": "stream",
     "text": [
      "label\n",
      "2    2634124\n",
      "3     486504\n",
      "1    4000013\n",
      "4     317183\n",
      "0    1098195\n",
      "Name: count, dtype: int64\n"
     ]
    }
   ],
   "source": [
    "import torch\n",
    "import torch.nn as nn\n",
    "import torch.optim as optim\n",
    "from sklearn.datasets import make_classification\n",
    "from sklearn.svm import OneClassSVM\n",
    "from sklearn.preprocessing import StandardScaler\n",
    "from sklearn.model_selection import train_test_split\n",
    "import numpy as np\n",
    "import dask.dataframe as dd\n",
    "import pandas as pd\n",
    "# # 90% coi là \"normal\", 10% \"abnormal\" để test sau\n",
    "# X = StandardScaler().fit_transform(X)\n",
    "# train_X = torch.tensor(X[:1200], dtype=torch.float32)  # chỉ train bằng dữ liệu bình thường\n",
    "# test_X  = torch.tensor(X, dtype=torch.float32)\n",
    "\n",
    "df = dd.read_parquet(\"C:\\\\Users\\\\hoang\\\\Documents\\\\Dataset_KLTN\\\\scaled_output_parquet\")\n",
    "\n",
    "print(df['label'].value_counts().compute())\n",
    "\n",
    "df = df.sample(frac=0.05, random_state=42).compute()\n",
    "\n",
    "X_all = df[:-1].values.astype(np.float32)\n",
    "# y_all = df[-1].values\n",
    "\n",
    "# del df\n",
    "\n",
    "# train_X, test_X = train_test_split(X_all, test_size=0.2, random_state=42)\n",
    "\n",
    "train_X = torch.tensor(X_all, dtype=torch.float32)\n",
    "X_all = torch.tensor(X_all, dtype=torch.float32)"
   ]
  },
  {
   "cell_type": "code",
   "execution_count": 6,
   "id": "a3c13642",
   "metadata": {},
   "outputs": [
    {
     "name": "stdout",
     "output_type": "stream",
     "text": [
      "CUDA available: True\n",
      "CUDA device count: 1\n",
      "Current device index: 0\n",
      "Current device name: NVIDIA GeForce GTX 1650 with Max-Q Design\n"
     ]
    }
   ],
   "source": [
    "print(\"CUDA available:\", torch.cuda.is_available())\n",
    "print(\"CUDA device count:\", torch.cuda.device_count())\n",
    "print(\"Current device index:\", torch.cuda.current_device())\n",
    "print(\"Current device name:\", torch.cuda.get_device_name(torch.cuda.current_device()))"
   ]
  },
  {
   "cell_type": "code",
   "execution_count": 7,
   "id": "b9b5e003",
   "metadata": {},
   "outputs": [
    {
     "name": "stdout",
     "output_type": "stream",
     "text": [
      "[bAE] Epoch 10/50  Loss 0.9539\n",
      "[bAE] Epoch 20/50  Loss 0.9404\n",
      "[bAE] Epoch 30/50  Loss 0.9260\n",
      "[bAE] Epoch 40/50  Loss 0.9071\n",
      "[bAE] Epoch 50/50  Loss 0.8807\n"
     ]
    }
   ],
   "source": [
    "# ================== 2. BASIC AUTOENCODER (bAE) ==================\n",
    "class BasicAE(nn.Module):\n",
    "    def __init__(self, in_dim=20, latent=8):\n",
    "        super().__init__()\n",
    "        self.encoder = nn.Sequential(\n",
    "            nn.Linear(in_dim, 12), nn.ReLU(),\n",
    "            nn.Linear(12, latent)\n",
    "        )\n",
    "        self.decoder = nn.Sequential(\n",
    "            nn.Linear(latent, 12), nn.ReLU(),\n",
    "            nn.Linear(12, in_dim)\n",
    "        )\n",
    "    def forward(self, x):\n",
    "        z = self.encoder(x)\n",
    "        return self.decoder(z), z\n",
    "\n",
    "bAE = BasicAE(in_dim=X_all.shape[1])\n",
    "opt_bae = optim.Adam(bAE.parameters(), lr=1e-3)\n",
    "loss_fn = nn.MSELoss()\n",
    "\n",
    "for epoch in range(50):\n",
    "    opt_bae.zero_grad()\n",
    "    recon, _ = bAE(train_X)\n",
    "    loss = loss_fn(recon, train_X)\n",
    "    loss.backward()\n",
    "    opt_bae.step()\n",
    "    if (epoch+1) % 10 == 0:\n",
    "        print(f\"[bAE] Epoch {epoch+1}/50  Loss {loss.item():.4f}\")\n",
    "\n",
    "with torch.no_grad():\n",
    "    z_normal = bAE.encoder(train_X).numpy()\n",
    "    # z_all   = bAE.encoder(X_all).numpy()\n"
   ]
  },
  {
   "cell_type": "code",
   "execution_count": 8,
   "id": "9f31c0ac",
   "metadata": {},
   "outputs": [
    {
     "name": "stdout",
     "output_type": "stream",
     "text": [
      "Anomaly count: 21382\n"
     ]
    }
   ],
   "source": [
    "# ================== 3. ONE-CLASS SVM ==================\n",
    "ocsvm = OneClassSVM(kernel=\"rbf\", nu=0.05, gamma=\"scale\")\n",
    "y_pred = ocsvm.fit_predict(z_normal)\n",
    "# y_pred = pd.Series(y_pred)\n",
    "# svm_pred = ocsvm.predict(z_normal)      # 1=normal, -1=anomaly\n",
    "anomaly_idx = np.where(y_pred == -1)[0]\n",
    "print(\"Anomaly count:\", len(anomaly_idx))\n"
   ]
  },
  {
   "cell_type": "code",
   "execution_count": 9,
   "id": "640d07ef",
   "metadata": {},
   "outputs": [
    {
     "name": "stderr",
     "output_type": "stream",
     "text": [
      "C:\\Users\\hoang\\AppData\\Local\\Temp\\ipykernel_20724\\3706733454.py:5: UserWarning: Boolean Series key will be reindexed to match DataFrame index.\n",
      "  abIdx = df[svm_pred==-1]\n"
     ]
    },
    {
     "data": {
      "image/png": "[encoded data removed]",
      "text/plain": [
       "<Figure size 640x480 with 1 Axes>"
      ]
     },
     "metadata": {},
     "output_type": "display_data"
    }
   ],
   "source": [
    "import matplotlib.pyplot as plt\n",
    "import pandas as pd\n",
    "# print(len(df.columns))\n",
    "svm_pred = pd.Series(y_pred)\n",
    "abIdx = df[svm_pred==-1]\n",
    "# print(abIdx.iloc[:,-1])\n",
    "def plot_OCSVM(i1, i2):\n",
    "    plt.scatter(df.iloc[:,i1], df.iloc[:,i2],c='red',s=40, edgecolor=\"k\")\n",
    "    plt.scatter(abIdx.iloc[:,i1],abIdx.iloc[:,i2],c='green', s=40, edgecolor=\"k\")\n",
    "    plt.title(\"OC-SVM Outlier detection between Feature Pair: V{} and V{}\".format(i1, i2))\n",
    "    plt.xlabel(\"V{}\".format(i1))\n",
    "    plt.ylabel(\"V{}\".format(i2))\n",
    "#plot_OCSVM(1)  # chnage the integer value to visualize different pairs of features\n",
    "plot_OCSVM(14, 46)\n",
    "#plot_OCSVM(3)"
   ]
  },
  {
   "cell_type": "code",
   "execution_count": 28,
   "id": "bcf7f094",
   "metadata": {},
   "outputs": [
    {
     "name": "stderr",
     "output_type": "stream",
     "text": [
      "C:\\Users\\hoang\\AppData\\Local\\Temp\\ipykernel_20724\\2767849805.py:3: UserWarning: To copy construct from a tensor, it is recommended to use sourceTensor.clone().detach() or sourceTensor.clone().detach().requires_grad_(True), rather than torch.tensor(sourceTensor).\n",
      "  abnormal_data = torch.tensor(X_all[anomaly_idx], dtype=torch.float32)\n"
     ]
    },
    {
     "name": "stdout",
     "output_type": "stream",
     "text": [
      "[dAE] Epoch 10/30  Loss 7.3005\n",
      "[dAE] Epoch 20/30  Loss 7.1478\n",
      "[dAE] Epoch 30/30  Loss 6.8292\n",
      "Deep latent vectors shape: torch.Size([21382, 4])\n"
     ]
    }
   ],
   "source": [
    "\n",
    "# ================== 4. DEEP AUTOENCODER (dAE) ==================\n",
    "anomaly_idx = np.array(anomaly_idx, dtype=np.int64)\n",
    "abnormal_data = torch.tensor(X_all[anomaly_idx], dtype=torch.float32)\n",
    "\n",
    "class DeepAE(nn.Module):\n",
    "    def __init__(self, in_dim=20, latent=4):\n",
    "        super().__init__()\n",
    "        self.encoder = nn.Sequential(\n",
    "            nn.Linear(in_dim, 32), nn.ReLU(),\n",
    "            nn.Linear(32, 16), nn.ReLU(),\n",
    "            nn.Linear(16, latent)\n",
    "        )\n",
    "        self.decoder = nn.Sequential(\n",
    "            nn.Linear(latent, 16), nn.ReLU(),\n",
    "            nn.Linear(16, 32), nn.ReLU(),\n",
    "            nn.Linear(32, in_dim)\n",
    "        )\n",
    "    def forward(self, x):\n",
    "        z = self.encoder(x)\n",
    "        return self.decoder(z), z\n",
    "\n",
    "if len(abnormal_data) > 0:\n",
    "    dAE = DeepAE(in_dim=X_all.shape[1])\n",
    "    opt_dae = optim.Adam(dAE.parameters(), lr=1e-3)\n",
    "    for epoch in range(30):\n",
    "        opt_dae.zero_grad()\n",
    "        recon, _ = dAE(abnormal_data)\n",
    "        loss = loss_fn(recon, abnormal_data)\n",
    "        loss.backward()\n",
    "        opt_dae.step()\n",
    "        if (epoch+1) % 10 == 0:\n",
    "            print(f\"[dAE] Epoch {epoch+1}/30  Loss {loss.item():.4f}\")\n",
    "\n",
    "    with torch.no_grad():\n",
    "        latent_attack = dAE.encoder(abnormal_data)   # [N_abn, latent_dim]\n",
    "        print(\"Deep latent vectors shape:\", latent_attack.shape)\n",
    "else:\n",
    "    latent_attack = torch.empty(0, 4)\n",
    "    print(\"Không có bất thường nào.\")\n",
    "\n"
   ]
  }
 ],
 "metadata": {
  "kernelspec": {
   "display_name": "kltn",
   "language": "python",
   "name": "python3"
  },
  "language_info": {
   "codemirror_mode": {
    "name": "ipython",
    "version": 3
   },
   "file_extension": ".py",
   "mimetype": "text/x-python",
   "name": "python",
   "nbconvert_exporter": "python",
   "pygments_lexer": "ipython3",
   "version": "3.9.23"
  }
 },
 "nbformat": 4,
 "nbformat_minor": 5
}
