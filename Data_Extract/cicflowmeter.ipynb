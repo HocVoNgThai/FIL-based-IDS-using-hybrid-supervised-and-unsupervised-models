{
 "cells": [
  {
   "cell_type": "code",
   "execution_count": null,
   "id": "c9ba79d7",
   "metadata": {},
   "outputs": [
    {
     "name": "stdout",
     "output_type": "stream",
     "text": [
      "Processing iotsim-air-quality-1_0-0_to_OpenvSwitch-25_1-0.pcap ...\n",
      "Processing iotsim-building-monitor-1_0-0_to_OpenvSwitch-28_1-0.pcap ...\n",
      "Processing iotsim-building-monitor-2_0-0_to_OpenvSwitch-28_2-0.pcap ...\n",
      "Processing iotsim-building-monitor-3_0-0_to_OpenvSwitch-28_3-0.pcap ...\n",
      "Processing iotsim-building-monitor-4_0-0_to_OpenvSwitch-28_4-0.pcap ...\n",
      "Processing iotsim-building-monitor-5_0-0_to_OpenvSwitch-28_5-0.pcap ...\n",
      "Processing iotsim-city-power-1_0-0_to_OpenvSwitch-26_1-0.pcap ...\n",
      "Processing iotsim-combined-cycle-10_0-0_to_OpenvSwitch-13_10-0.pcap ...\n",
      "Processing iotsim-combined-cycle-1_0-0_to_OpenvSwitch-13_1-0.pcap ...\n",
      "Processing iotsim-combined-cycle-2_0-0_to_OpenvSwitch-13_2-0.pcap ...\n",
      "Processing iotsim-combined-cycle-3_0-0_to_OpenvSwitch-13_3-0.pcap ...\n",
      "Processing iotsim-combined-cycle-4_0-0_to_OpenvSwitch-13_4-0.pcap ...\n",
      "Processing iotsim-combined-cycle-5_0-0_to_OpenvSwitch-13_5-0.pcap ...\n",
      "Processing iotsim-combined-cycle-6_0-0_to_OpenvSwitch-13_6-0.pcap ...\n",
      "Processing iotsim-combined-cycle-7_0-0_to_OpenvSwitch-13_7-0.pcap ...\n",
      "Processing iotsim-combined-cycle-8_0-0_to_OpenvSwitch-13_8-0.pcap ...\n",
      "Processing iotsim-combined-cycle-9_0-0_to_OpenvSwitch-13_9-0.pcap ...\n",
      "Processing iotsim-combined-cycle-tls-1_0-0_to_OpenvSwitch-14_1-0.pcap ...\n",
      "Processing iotsim-combined-cycle-tls-2_0-0_to_OpenvSwitch-14_2-0.pcap ...\n",
      "Processing iotsim-combined-cycle-tls-3_0-0_to_OpenvSwitch-14_3-0.pcap ...\n",
      "Processing iotsim-combined-cycle-tls-4_0-0_to_OpenvSwitch-14_4-0.pcap ...\n",
      "Processing iotsim-combined-cycle-tls-5_0-0_to_OpenvSwitch-14_5-0.pcap ...\n",
      "Processing iotsim-cooler-motor-10_0-0_to_OpenvSwitch-18_10-0.pcap ...\n",
      "Processing iotsim-cooler-motor-11_0-0_to_OpenvSwitch-20_1-0.pcap ...\n",
      "Processing iotsim-cooler-motor-12_0-0_to_OpenvSwitch-20_2-0.pcap ...\n",
      "Processing iotsim-cooler-motor-13_0-0_to_OpenvSwitch-20_3-0.pcap ...\n",
      "Processing iotsim-cooler-motor-14_0-0_to_OpenvSwitch-20_4-0.pcap ...\n",
      "Processing iotsim-cooler-motor-15_0-0_to_OpenvSwitch-20_5-0.pcap ...\n",
      "Processing iotsim-cooler-motor-1_0-0_to_OpenvSwitch-18_1-0.pcap ...\n",
      "Processing iotsim-cooler-motor-2_0-0_to_OpenvSwitch-18_2-0.pcap ...\n",
      "Processing iotsim-cooler-motor-3_0-0_to_OpenvSwitch-18_3-0.pcap ...\n",
      "Processing iotsim-cooler-motor-4_0-0_to_OpenvSwitch-18_4-0.pcap ...\n",
      "Processing iotsim-cooler-motor-5_0-0_to_OpenvSwitch-18_5-0.pcap ...\n",
      "Processing iotsim-cooler-motor-6_0-0_to_OpenvSwitch-18_6-0.pcap ...\n",
      "Processing iotsim-cooler-motor-7_0-0_to_OpenvSwitch-18_7-0.pcap ...\n",
      "Processing iotsim-cooler-motor-8_0-0_to_OpenvSwitch-18_8-0.pcap ...\n",
      "Processing iotsim-cooler-motor-9_0-0_to_OpenvSwitch-18_9-0.pcap ...\n",
      "Processing iotsim-domotic-monitor-1_0-0_to_OpenvSwitch-23_1-0.pcap ...\n",
      "Processing iotsim-domotic-monitor-2_0-0_to_OpenvSwitch-23_2-0.pcap ...\n",
      "Processing iotsim-domotic-monitor-3_0-0_to_OpenvSwitch-23_3-0.pcap ...\n",
      "Processing iotsim-domotic-monitor-4_0-0_to_OpenvSwitch-23_4-0.pcap ...\n",
      "Processing iotsim-domotic-monitor-5_0-0_to_OpenvSwitch-23_5-0.pcap ...\n",
      "Processing iotsim-hydraulic-system-10_0-0_to_OpenvSwitch-15_10-0.pcap ...\n",
      "Processing iotsim-hydraulic-system-11_0-0_to_OpenvSwitch-16_1-0.pcap ...\n",
      "Processing iotsim-hydraulic-system-12_0-0_to_OpenvSwitch-16_2-0.pcap ...\n",
      "Processing iotsim-hydraulic-system-13_0-0_to_OpenvSwitch-16_3-0.pcap ...\n",
      "Processing iotsim-hydraulic-system-14_0-0_to_OpenvSwitch-16_4-0.pcap ...\n",
      "Processing iotsim-hydraulic-system-15_0-0_to_OpenvSwitch-16_5-0.pcap ...\n",
      "Processing iotsim-hydraulic-system-1_0-0_to_OpenvSwitch-15_1-0.pcap ...\n",
      "Processing iotsim-hydraulic-system-2_0-0_to_OpenvSwitch-15_2-0.pcap ...\n",
      "Processing iotsim-hydraulic-system-3_0-0_to_OpenvSwitch-15_3-0.pcap ...\n",
      "Processing iotsim-hydraulic-system-4_0-0_to_OpenvSwitch-15_4-0.pcap ...\n",
      "Processing iotsim-hydraulic-system-5_0-0_to_OpenvSwitch-15_5-0.pcap ...\n",
      "Processing iotsim-hydraulic-system-6_0-0_to_OpenvSwitch-15_6-0.pcap ...\n",
      "Processing iotsim-hydraulic-system-7_0-0_to_OpenvSwitch-15_7-0.pcap ...\n",
      "Processing iotsim-hydraulic-system-8_0-0_to_OpenvSwitch-15_8-0.pcap ...\n",
      "Processing iotsim-hydraulic-system-9_0-0_to_OpenvSwitch-15_9-0.pcap ...\n",
      "Processing iotsim-ip-camera-museum-1_0-0_to_OpenvSwitch-29_1-0.pcap ...\n",
      "Processing iotsim-ip-camera-museum-2_0-0_to_OpenvSwitch-29_2-0.pcap ...\n"
     ]
    },
    {
     "ename": "KeyboardInterrupt",
     "evalue": "",
     "output_type": "error",
     "traceback": [
      "\u001b[1;31m---------------------------------------------------------------------------\u001b[0m",
      "\u001b[1;31mKeyboardInterrupt\u001b[0m                         Traceback (most recent call last)",
      "Cell \u001b[1;32mIn[6], line 12\u001b[0m\n\u001b[0;32m     10\u001b[0m input_path \u001b[38;5;241m=\u001b[39m os\u001b[38;5;241m.\u001b[39mpath\u001b[38;5;241m.\u001b[39mjoin(pcap_dir, file)\n\u001b[0;32m     11\u001b[0m \u001b[38;5;28mprint\u001b[39m(\u001b[38;5;124mf\u001b[39m\u001b[38;5;124m\"\u001b[39m\u001b[38;5;124mProcessing \u001b[39m\u001b[38;5;132;01m{\u001b[39;00mfile\u001b[38;5;132;01m}\u001b[39;00m\u001b[38;5;124m ...\u001b[39m\u001b[38;5;124m\"\u001b[39m)\n\u001b[1;32m---> 12\u001b[0m \u001b[43msubprocess\u001b[49m\u001b[38;5;241;43m.\u001b[39;49m\u001b[43mrun\u001b[49m\u001b[43m(\u001b[49m\u001b[43m[\u001b[49m\n\u001b[0;32m     13\u001b[0m \u001b[43m    \u001b[49m\u001b[38;5;124;43m\"\u001b[39;49m\u001b[38;5;124;43mjava\u001b[39;49m\u001b[38;5;124;43m\"\u001b[39;49m\u001b[43m,\u001b[49m\u001b[43m \u001b[49m\u001b[38;5;124;43m\"\u001b[39;49m\u001b[38;5;124;43m-Djava.awt.headless=true\u001b[39;49m\u001b[38;5;124;43m\"\u001b[39;49m\u001b[43m,\u001b[49m\u001b[43m \u001b[49m\u001b[38;5;124;43m\"\u001b[39;49m\u001b[38;5;124;43m-jar\u001b[39;49m\u001b[38;5;124;43m\"\u001b[39;49m\u001b[43m,\u001b[49m\u001b[43m \u001b[49m\u001b[43mcic_jar\u001b[49m\u001b[43m,\u001b[49m\n\u001b[0;32m     14\u001b[0m \u001b[43m    \u001b[49m\u001b[43minput_path\u001b[49m\u001b[43m,\u001b[49m\u001b[43m \u001b[49m\u001b[43moutput_dir\u001b[49m\n\u001b[0;32m     15\u001b[0m \u001b[43m\u001b[49m\u001b[43m]\u001b[49m\u001b[43m)\u001b[49m\n",
      "File \u001b[1;32mc:\\Users\\hoang\\.conda\\envs\\kltn\\lib\\subprocess.py:507\u001b[0m, in \u001b[0;36mrun\u001b[1;34m(input, capture_output, timeout, check, *popenargs, **kwargs)\u001b[0m\n\u001b[0;32m    505\u001b[0m \u001b[38;5;28;01mwith\u001b[39;00m Popen(\u001b[38;5;241m*\u001b[39mpopenargs, \u001b[38;5;241m*\u001b[39m\u001b[38;5;241m*\u001b[39mkwargs) \u001b[38;5;28;01mas\u001b[39;00m process:\n\u001b[0;32m    506\u001b[0m     \u001b[38;5;28;01mtry\u001b[39;00m:\n\u001b[1;32m--> 507\u001b[0m         stdout, stderr \u001b[38;5;241m=\u001b[39m \u001b[43mprocess\u001b[49m\u001b[38;5;241;43m.\u001b[39;49m\u001b[43mcommunicate\u001b[49m\u001b[43m(\u001b[49m\u001b[38;5;28;43minput\u001b[39;49m\u001b[43m,\u001b[49m\u001b[43m \u001b[49m\u001b[43mtimeout\u001b[49m\u001b[38;5;241;43m=\u001b[39;49m\u001b[43mtimeout\u001b[49m\u001b[43m)\u001b[49m\n\u001b[0;32m    508\u001b[0m     \u001b[38;5;28;01mexcept\u001b[39;00m TimeoutExpired \u001b[38;5;28;01mas\u001b[39;00m exc:\n\u001b[0;32m    509\u001b[0m         process\u001b[38;5;241m.\u001b[39mkill()\n",
      "File \u001b[1;32mc:\\Users\\hoang\\.conda\\envs\\kltn\\lib\\subprocess.py:1126\u001b[0m, in \u001b[0;36mPopen.communicate\u001b[1;34m(self, input, timeout)\u001b[0m\n\u001b[0;32m   1124\u001b[0m         stderr \u001b[38;5;241m=\u001b[39m \u001b[38;5;28mself\u001b[39m\u001b[38;5;241m.\u001b[39mstderr\u001b[38;5;241m.\u001b[39mread()\n\u001b[0;32m   1125\u001b[0m         \u001b[38;5;28mself\u001b[39m\u001b[38;5;241m.\u001b[39mstderr\u001b[38;5;241m.\u001b[39mclose()\n\u001b[1;32m-> 1126\u001b[0m     \u001b[38;5;28;43mself\u001b[39;49m\u001b[38;5;241;43m.\u001b[39;49m\u001b[43mwait\u001b[49m\u001b[43m(\u001b[49m\u001b[43m)\u001b[49m\n\u001b[0;32m   1127\u001b[0m \u001b[38;5;28;01melse\u001b[39;00m:\n\u001b[0;32m   1128\u001b[0m     \u001b[38;5;28;01mif\u001b[39;00m timeout \u001b[38;5;129;01mis\u001b[39;00m \u001b[38;5;129;01mnot\u001b[39;00m \u001b[38;5;28;01mNone\u001b[39;00m:\n",
      "File \u001b[1;32mc:\\Users\\hoang\\.conda\\envs\\kltn\\lib\\subprocess.py:1189\u001b[0m, in \u001b[0;36mPopen.wait\u001b[1;34m(self, timeout)\u001b[0m\n\u001b[0;32m   1187\u001b[0m     endtime \u001b[38;5;241m=\u001b[39m _time() \u001b[38;5;241m+\u001b[39m timeout\n\u001b[0;32m   1188\u001b[0m \u001b[38;5;28;01mtry\u001b[39;00m:\n\u001b[1;32m-> 1189\u001b[0m     \u001b[38;5;28;01mreturn\u001b[39;00m \u001b[38;5;28;43mself\u001b[39;49m\u001b[38;5;241;43m.\u001b[39;49m\u001b[43m_wait\u001b[49m\u001b[43m(\u001b[49m\u001b[43mtimeout\u001b[49m\u001b[38;5;241;43m=\u001b[39;49m\u001b[43mtimeout\u001b[49m\u001b[43m)\u001b[49m\n\u001b[0;32m   1190\u001b[0m \u001b[38;5;28;01mexcept\u001b[39;00m \u001b[38;5;167;01mKeyboardInterrupt\u001b[39;00m:\n\u001b[0;32m   1191\u001b[0m     \u001b[38;5;66;03m# https://bugs.python.org/issue25942\u001b[39;00m\n\u001b[0;32m   1192\u001b[0m     \u001b[38;5;66;03m# The first keyboard interrupt waits briefly for the child to\u001b[39;00m\n\u001b[0;32m   1193\u001b[0m     \u001b[38;5;66;03m# exit under the common assumption that it also received the ^C\u001b[39;00m\n\u001b[0;32m   1194\u001b[0m     \u001b[38;5;66;03m# generated SIGINT and will exit rapidly.\u001b[39;00m\n\u001b[0;32m   1195\u001b[0m     \u001b[38;5;28;01mif\u001b[39;00m timeout \u001b[38;5;129;01mis\u001b[39;00m \u001b[38;5;129;01mnot\u001b[39;00m \u001b[38;5;28;01mNone\u001b[39;00m:\n",
      "File \u001b[1;32mc:\\Users\\hoang\\.conda\\envs\\kltn\\lib\\subprocess.py:1486\u001b[0m, in \u001b[0;36mPopen._wait\u001b[1;34m(self, timeout)\u001b[0m\n\u001b[0;32m   1483\u001b[0m     timeout_millis \u001b[38;5;241m=\u001b[39m \u001b[38;5;28mint\u001b[39m(timeout \u001b[38;5;241m*\u001b[39m \u001b[38;5;241m1000\u001b[39m)\n\u001b[0;32m   1484\u001b[0m \u001b[38;5;28;01mif\u001b[39;00m \u001b[38;5;28mself\u001b[39m\u001b[38;5;241m.\u001b[39mreturncode \u001b[38;5;129;01mis\u001b[39;00m \u001b[38;5;28;01mNone\u001b[39;00m:\n\u001b[0;32m   1485\u001b[0m     \u001b[38;5;66;03m# API note: Returns immediately if timeout_millis == 0.\u001b[39;00m\n\u001b[1;32m-> 1486\u001b[0m     result \u001b[38;5;241m=\u001b[39m \u001b[43m_winapi\u001b[49m\u001b[38;5;241;43m.\u001b[39;49m\u001b[43mWaitForSingleObject\u001b[49m\u001b[43m(\u001b[49m\u001b[38;5;28;43mself\u001b[39;49m\u001b[38;5;241;43m.\u001b[39;49m\u001b[43m_handle\u001b[49m\u001b[43m,\u001b[49m\n\u001b[0;32m   1487\u001b[0m \u001b[43m                                         \u001b[49m\u001b[43mtimeout_millis\u001b[49m\u001b[43m)\u001b[49m\n\u001b[0;32m   1488\u001b[0m     \u001b[38;5;28;01mif\u001b[39;00m result \u001b[38;5;241m==\u001b[39m _winapi\u001b[38;5;241m.\u001b[39mWAIT_TIMEOUT:\n\u001b[0;32m   1489\u001b[0m         \u001b[38;5;28;01mraise\u001b[39;00m TimeoutExpired(\u001b[38;5;28mself\u001b[39m\u001b[38;5;241m.\u001b[39margs, timeout)\n",
      "\u001b[1;31mKeyboardInterrupt\u001b[0m: "
     ]
    }
   ],
   "source": [
    "import subprocess\n",
    "import os\n",
    "\n",
    "pcap_dir = \"C:/Users/hoang/Documents/Dataset_KLTN/raw/benign\"\n",
    "output_dir = \"C:/Users/hoang/Documents/Dataset_KLTN/gotham2025_extracted/benign/\"\n",
    "cic_jar = \"C:/Users/hoang/Code/CICFlowMeter/target/CICFlowMeterV3-0.0.4-SNAPSHOT.jar\"\n",
    "\n",
    "for file in os.listdir(pcap_dir):\n",
    "    if file.endswith(\".pcap\"):\n",
    "        input_path = os.path.join(pcap_dir, file)\n",
    "        print(f\"Processing {file} ...\")\n",
    "        subprocess.run([\n",
    "            \"java\", \"-Djava.awt.headless=true\", \"-jar\", cic_jar,\n",
    "            input_path, output_dir\n",
    "        ])\n"
   ]
  }
 ],
 "metadata": {
  "kernelspec": {
   "display_name": "kltn",
   "language": "python",
   "name": "python3"
  },
  "language_info": {
   "codemirror_mode": {
    "name": "ipython",
    "version": 3
   },
   "file_extension": ".py",
   "mimetype": "text/x-python",
   "name": "python",
   "nbconvert_exporter": "python",
   "pygments_lexer": "ipython3",
   "version": "3.9.23"
  }
 },
 "nbformat": 4,
 "nbformat_minor": 5
}
